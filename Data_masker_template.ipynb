{
  "nbformat": 4,
  "nbformat_minor": 0,
  "metadata": {
    "colab": {
      "provenance": [],
      "authorship_tag": "ABX9TyOK0BVQHR/IdiYYIlIeZ/iu"
    },
    "kernelspec": {
      "name": "python3",
      "display_name": "Python 3"
    },
    "language_info": {
      "name": "python"
    }
  },
  "cells": [
    {
      "cell_type": "code",
      "execution_count": 8,
      "metadata": {
        "colab": {
          "base_uri": "https://localhost:8080/"
        },
        "id": "kJ9x1R5g0k_0",
        "outputId": "26953b5f-dabf-4a2c-ca0b-f90df5e5901d"
      },
      "outputs": [
        {
          "output_type": "stream",
          "name": "stdout",
          "text": [
            "Requirement already satisfied: faker in /usr/local/lib/python3.11/dist-packages (37.4.0)\n",
            "Requirement already satisfied: tzdata in /usr/local/lib/python3.11/dist-packages (from faker) (2025.2)\n",
            "Original Data:\n",
            "                     Name                          Email         Phone  \\\n",
            "0          Jaykant Shikre           jaykantrox@gmail.com  123-456-7890   \n",
            "1              Pushpa Raj  jhukega_nahi_sala@example.com  234-567-8901   \n",
            "2  Raja Krishnappa Bairya              rocky@example.com  345-678-9012   \n",
            "3           Langada Tyagi           bahubali@example.com  456-789-0123   \n",
            "\n",
            "                      Address  \n",
            "0            123 shivpur, goa  \n",
            "1       456 seshachalam hills  \n",
            "2       789 Oak St, Bangalore  \n",
            "3  321 Pine St, uttar pradesh  \n",
            "\n",
            "Masked Data:\n",
            "            Name                     Email          Phone  \\\n",
            "0  Aryan Maharaj    udantdewan@example.net  +918196001338   \n",
            "1  Gunbir Parmer     aishani07@example.net  +916184959310   \n",
            "2    Nihal Shere        omadan@example.net     3503056413   \n",
            "3    Gavin Batta  duanathaniel@example.net    09166978480   \n",
            "\n",
            "                                   Address  \n",
            "0      86/379, Ahuja Road, Bhusawal 423511  \n",
            "1     H.No. 316, Setty Road, Ujjain-534192  \n",
            "2  76/724, Koshy Street, Bhimavaram 965328  \n",
            "3      51/462, Aggarwal Chowk, Orai 814893  \n"
          ]
        }
      ],
      "source": [
        "\n",
        "# 1:Installation\n",
        "!pip install faker\n",
        "\n",
        "# 2: Library import\n",
        "import pandas as pd\n",
        "from faker import Faker\n",
        "import random\n",
        "\n",
        "# 3: Randomisation with Reproducibility\n",
        "seed = 42\n",
        "random.seed(seed)\n",
        "faker = Faker('en_IN') # for india specific\n",
        "Faker.seed(seed)\n",
        "\n",
        "# 4: Sample Data\n",
        "data = {\n",
        "    'Name': ['Jaykant Shikre', 'Pushpa Raj', 'Raja Krishnappa Bairya', 'Langada Tyagi'],\n",
        "    'Email': ['jaykantrox@gmail.com','jhukega_nahi_sala@example.com', 'rocky@example.com', 'bahubali@example.com'],\n",
        "    'Phone': ['123-456-7890', '234-567-8901', '345-678-9012', '456-789-0123'],\n",
        "    'Address': ['123 shivpur, goa', '456 seshachalam hills', '789 Oak St, Bangalore', '321 Pine St, uttar pradesh']\n",
        "}\n",
        "\n",
        "df_original = pd.DataFrame(data)\n",
        "print(\"Original Data:\")\n",
        "print(df_original)\n",
        "\n",
        "# 5: Masking Function\n",
        "def mask_data(df):\n",
        "    masked_df = df.copy()\n",
        "    for i in range(len(df)):\n",
        "        masked_df.loc[i, 'Name'] = faker.name()\n",
        "        masked_df.loc[i, 'Email'] = faker.email()\n",
        "        masked_df.loc[i, 'Phone'] = faker.phone_number()\n",
        "        masked_df.loc[i, 'Address'] = faker.address().replace(\"\\n\", \", \")\n",
        "    return masked_df\n",
        "\n",
        "# 6: Apply Masking\n",
        "df_masked = mask_data(df_original)\n",
        "\n",
        "# 7: Masked Data display\n",
        "print(\"\\nMasked Data:\")\n",
        "print(df_masked)"
      ]
    }
  ]
}